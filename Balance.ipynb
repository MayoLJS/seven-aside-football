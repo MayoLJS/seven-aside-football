{
 "cells": [
  {
   "cell_type": "markdown",
   "metadata": {},
   "source": [
    "Team Balancer"
   ]
  },
  {
   "cell_type": "code",
   "execution_count": 7,
   "metadata": {},
   "outputs": [
    {
     "name": "stdout",
     "output_type": "stream",
     "text": [
      "Teams have been successfully created and saved to teams_output.xlsx\n"
     ]
    }
   ],
   "source": [
    "import pandas as pd\n",
    "import math\n",
    "import random\n",
    "from collections import defaultdict\n",
    "\n",
    "# Function to create teams with balanced ratios\n",
    "def create_balanced_teams(data):\n",
    "    # Ratio requirements\n",
    "    RATIO = {'ATT': 2, 'MID': 3, 'DEF': 2}\n",
    "    TOTAL_RATIO = sum(RATIO.values())\n",
    "    MAX_TEAM_SIZE = 7\n",
    "\n",
    "    # Shuffle the dataset rows to randomize team assignment\n",
    "    data = data.sample(frac=1, random_state=None).reset_index(drop=True)\n",
    "\n",
    "    # Count total players by position\n",
    "    position_counts = data['Position'].value_counts().to_dict()\n",
    "\n",
    "    # Ensure there are enough players for the ratio\n",
    "    total_players = len(data)\n",
    "    min_teams = max(1, math.ceil(total_players / MAX_TEAM_SIZE))\n",
    "    max_possible_teams = min(position_counts[pos] // RATIO[pos] for pos in RATIO)\n",
    "    num_teams = min(min_teams, max_possible_teams)\n",
    "\n",
    "    team_size = total_players // num_teams  # Approx. size per team\n",
    "    extra_players = total_players % num_teams\n",
    "\n",
    "    # Prepare to distribute players with randomness\n",
    "    players_by_position = {\n",
    "        pos: data[data['Position'] == pos]['Name'].tolist() for pos in RATIO\n",
    "    }\n",
    "\n",
    "    teams = defaultdict(list)\n",
    "    for team_idx in range(1, num_teams + 1):\n",
    "        # Fill the team based on the ratio\n",
    "        for pos, count in RATIO.items():\n",
    "            for _ in range(math.floor(count / TOTAL_RATIO * team_size)):\n",
    "                if players_by_position[pos]:\n",
    "                    teams[team_idx].append((players_by_position[pos].pop(), pos))\n",
    "\n",
    "    # Distribute remaining players equally among teams\n",
    "    remaining_players = []\n",
    "    for pos, players in players_by_position.items():\n",
    "        remaining_players.extend([(player, pos) for player in players])\n",
    "\n",
    "    for idx, player in enumerate(remaining_players):\n",
    "        team_idx = (idx % num_teams) + 1\n",
    "        teams[team_idx].append(player)\n",
    "\n",
    "    return teams\n",
    "\n",
    "# Main function to load data and create teams\n",
    "def main(file_path):\n",
    "    try:\n",
    "        data = pd.read_excel(file_path)\n",
    "        if 'Name' not in data.columns or 'Position' not in data.columns:\n",
    "            raise ValueError(\"Spreadsheet must contain 'Name' and 'Position' columns.\")\n",
    "    except Exception as e:\n",
    "        print(f\"Error loading file: {e}\")\n",
    "        return\n",
    "\n",
    "    # Create balanced teams\n",
    "    teams = create_balanced_teams(data)\n",
    "\n",
    "    # Save teams to a new Excel file\n",
    "    output_file = \"teams_output.xlsx\"\n",
    "    with pd.ExcelWriter(output_file) as writer:\n",
    "        for team_idx, members in teams.items():\n",
    "            df = pd.DataFrame(members, columns=['Name', 'Position'])\n",
    "            df.to_excel(writer, sheet_name=f'Team_{team_idx}', index=False)\n",
    "\n",
    "    print(f\"Teams have been successfully created and saved to {output_file}\")\n",
    "\n",
    "# Run the script in the notebook\n",
    "file_path = \"TeamSheet.xlsx\"  # Replace with your spreadsheet path\n",
    "main(file_path)\n"
   ]
  }
 ],
 "metadata": {
  "kernelspec": {
   "display_name": "alx-data-science",
   "language": "python",
   "name": "python3"
  },
  "language_info": {
   "codemirror_mode": {
    "name": "ipython",
    "version": 3
   },
   "file_extension": ".py",
   "mimetype": "text/x-python",
   "name": "python",
   "nbconvert_exporter": "python",
   "pygments_lexer": "ipython3",
   "version": "3.12.3"
  }
 },
 "nbformat": 4,
 "nbformat_minor": 2
}
